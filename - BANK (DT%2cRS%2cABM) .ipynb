{
 "cells": [
  {
   "cell_type": "code",
   "execution_count": 2,
   "metadata": {},
   "outputs": [],
   "source": [
    "import pandas as pd\n",
    "import numpy as np\n",
    "from sklearn.tree import DecisionTreeClassifier\n",
    "from sklearn.model_selection import train_test_split  \n",
    "\n",
    "from sklearn.ensemble import RandomForestClassifier\n",
    "from sklearn.metrics import confusion_matrix\n",
    "from sklearn.ensemble import AdaBoostClassifier # for adapvtive boosting"
   ]
  },
  {
   "cell_type": "code",
   "execution_count": 3,
   "metadata": {},
   "outputs": [
    {
     "data": {
      "text/html": [
       "<div>\n",
       "<style scoped>\n",
       "    .dataframe tbody tr th:only-of-type {\n",
       "        vertical-align: middle;\n",
       "    }\n",
       "\n",
       "    .dataframe tbody tr th {\n",
       "        vertical-align: top;\n",
       "    }\n",
       "\n",
       "    .dataframe thead th {\n",
       "        text-align: right;\n",
       "    }\n",
       "</style>\n",
       "<table border=\"1\" class=\"dataframe\">\n",
       "  <thead>\n",
       "    <tr style=\"text-align: right;\">\n",
       "      <th></th>\n",
       "      <th>age</th>\n",
       "      <th>job</th>\n",
       "      <th>marital</th>\n",
       "      <th>education</th>\n",
       "      <th>default</th>\n",
       "      <th>balance</th>\n",
       "      <th>housing</th>\n",
       "      <th>loan</th>\n",
       "      <th>contact</th>\n",
       "      <th>day</th>\n",
       "      <th>month</th>\n",
       "      <th>duration</th>\n",
       "      <th>campaign</th>\n",
       "      <th>pdays</th>\n",
       "      <th>previous</th>\n",
       "      <th>poutcome</th>\n",
       "      <th>y</th>\n",
       "    </tr>\n",
       "  </thead>\n",
       "  <tbody>\n",
       "    <tr>\n",
       "      <th>0</th>\n",
       "      <td>58</td>\n",
       "      <td>management</td>\n",
       "      <td>married</td>\n",
       "      <td>tertiary</td>\n",
       "      <td>no</td>\n",
       "      <td>2143</td>\n",
       "      <td>yes</td>\n",
       "      <td>no</td>\n",
       "      <td>unknown</td>\n",
       "      <td>5</td>\n",
       "      <td>may</td>\n",
       "      <td>261</td>\n",
       "      <td>1</td>\n",
       "      <td>-1</td>\n",
       "      <td>0</td>\n",
       "      <td>unknown</td>\n",
       "      <td>no</td>\n",
       "    </tr>\n",
       "    <tr>\n",
       "      <th>1</th>\n",
       "      <td>44</td>\n",
       "      <td>technician</td>\n",
       "      <td>single</td>\n",
       "      <td>secondary</td>\n",
       "      <td>no</td>\n",
       "      <td>29</td>\n",
       "      <td>yes</td>\n",
       "      <td>no</td>\n",
       "      <td>unknown</td>\n",
       "      <td>5</td>\n",
       "      <td>may</td>\n",
       "      <td>151</td>\n",
       "      <td>1</td>\n",
       "      <td>-1</td>\n",
       "      <td>0</td>\n",
       "      <td>unknown</td>\n",
       "      <td>no</td>\n",
       "    </tr>\n",
       "    <tr>\n",
       "      <th>2</th>\n",
       "      <td>33</td>\n",
       "      <td>entrepreneur</td>\n",
       "      <td>married</td>\n",
       "      <td>secondary</td>\n",
       "      <td>no</td>\n",
       "      <td>2</td>\n",
       "      <td>yes</td>\n",
       "      <td>yes</td>\n",
       "      <td>unknown</td>\n",
       "      <td>5</td>\n",
       "      <td>may</td>\n",
       "      <td>76</td>\n",
       "      <td>1</td>\n",
       "      <td>-1</td>\n",
       "      <td>0</td>\n",
       "      <td>unknown</td>\n",
       "      <td>no</td>\n",
       "    </tr>\n",
       "    <tr>\n",
       "      <th>3</th>\n",
       "      <td>47</td>\n",
       "      <td>blue-collar</td>\n",
       "      <td>married</td>\n",
       "      <td>unknown</td>\n",
       "      <td>no</td>\n",
       "      <td>1506</td>\n",
       "      <td>yes</td>\n",
       "      <td>no</td>\n",
       "      <td>unknown</td>\n",
       "      <td>5</td>\n",
       "      <td>may</td>\n",
       "      <td>92</td>\n",
       "      <td>1</td>\n",
       "      <td>-1</td>\n",
       "      <td>0</td>\n",
       "      <td>unknown</td>\n",
       "      <td>no</td>\n",
       "    </tr>\n",
       "    <tr>\n",
       "      <th>4</th>\n",
       "      <td>33</td>\n",
       "      <td>unknown</td>\n",
       "      <td>single</td>\n",
       "      <td>unknown</td>\n",
       "      <td>no</td>\n",
       "      <td>1</td>\n",
       "      <td>no</td>\n",
       "      <td>no</td>\n",
       "      <td>unknown</td>\n",
       "      <td>5</td>\n",
       "      <td>may</td>\n",
       "      <td>198</td>\n",
       "      <td>1</td>\n",
       "      <td>-1</td>\n",
       "      <td>0</td>\n",
       "      <td>unknown</td>\n",
       "      <td>no</td>\n",
       "    </tr>\n",
       "  </tbody>\n",
       "</table>\n",
       "</div>"
      ],
      "text/plain": [
       "   age           job  marital  education default  balance housing loan  \\\n",
       "0   58    management  married   tertiary      no     2143     yes   no   \n",
       "1   44    technician   single  secondary      no       29     yes   no   \n",
       "2   33  entrepreneur  married  secondary      no        2     yes  yes   \n",
       "3   47   blue-collar  married    unknown      no     1506     yes   no   \n",
       "4   33       unknown   single    unknown      no        1      no   no   \n",
       "\n",
       "   contact  day month  duration  campaign  pdays  previous poutcome   y  \n",
       "0  unknown    5   may       261         1     -1         0  unknown  no  \n",
       "1  unknown    5   may       151         1     -1         0  unknown  no  \n",
       "2  unknown    5   may        76         1     -1         0  unknown  no  \n",
       "3  unknown    5   may        92         1     -1         0  unknown  no  \n",
       "4  unknown    5   may       198         1     -1         0  unknown  no  "
      ]
     },
     "execution_count": 3,
     "metadata": {},
     "output_type": "execute_result"
    }
   ],
   "source": [
    "bank = pd.read_csv('C:/Users/Administrator/Desktop/ds/bank-full.csv', sep = ';')\n",
    "bank.head(5)"
   ]
  },
  {
   "cell_type": "code",
   "execution_count": 4,
   "metadata": {},
   "outputs": [
    {
     "data": {
      "text/plain": [
       "no     88.30152\n",
       "yes    11.69848\n",
       "Name: y, dtype: float64"
      ]
     },
     "execution_count": 4,
     "metadata": {},
     "output_type": "execute_result"
    }
   ],
   "source": [
    "bank['y'].value_counts()/bank.shape[0]*100"
   ]
  },
  {
   "cell_type": "code",
   "execution_count": 5,
   "metadata": {},
   "outputs": [
    {
     "data": {
      "text/plain": [
       "(45211, 52)"
      ]
     },
     "execution_count": 5,
     "metadata": {},
     "output_type": "execute_result"
    }
   ],
   "source": [
    "bank_dummy      = pd.get_dummies(bank.drop('y',axis = 1))\n",
    "bank_dummy['y'] = bank['y']\n",
    "bank_dummy.shape\n"
   ]
  },
  {
   "cell_type": "code",
   "execution_count": 6,
   "metadata": {},
   "outputs": [
    {
     "name": "stdout",
     "output_type": "stream",
     "text": [
      "(31647, 52)\n",
      "(13564, 52)\n"
     ]
    },
    {
     "data": {
      "text/plain": [
       "(31647, 51)"
      ]
     },
     "execution_count": 6,
     "metadata": {},
     "output_type": "execute_result"
    }
   ],
   "source": [
    "train,test = train_test_split(bank_dummy,test_size=0.3,\n",
    "                             random_state = 100)\n",
    "print(train.shape)\n",
    "print(test.shape)\n",
    "train.head()\n",
    "#saggegate\n",
    "train_y = train['y']\n",
    "test_y  = test ['y']\n",
    "train_x = train.drop('y', axis = 1)#axis 1 is for row wise operation\n",
    "test_x  = test.drop ('y', axis = 1)\n",
    "train_x.shape"
   ]
  },
  {
   "cell_type": "code",
   "execution_count": 48,
   "metadata": {},
   "outputs": [
    {
     "data": {
      "text/plain": [
       "DecisionTreeClassifier(class_weight=None, criterion='gini', max_depth=None,\n",
       "            max_features=None, max_leaf_nodes=None,\n",
       "            min_impurity_decrease=0.0, min_impurity_split=None,\n",
       "            min_samples_leaf=1, min_samples_split=2,\n",
       "            min_weight_fraction_leaf=0.0, presort=False, random_state=100,\n",
       "            splitter='best')"
      ]
     },
     "execution_count": 48,
     "metadata": {},
     "output_type": "execute_result"
    }
   ],
   "source": [
    "#model\n",
    "model = DecisionTreeClassifier(random_state = 100)\n",
    "model\n",
    "model.fit(train_x, train_y)"
   ]
  },
  {
   "cell_type": "code",
   "execution_count": 49,
   "metadata": {},
   "outputs": [
    {
     "name": "stdout",
     "output_type": "stream",
     "text": [
      "13564\n"
     ]
    },
    {
     "data": {
      "text/html": [
       "<div>\n",
       "<style scoped>\n",
       "    .dataframe tbody tr th:only-of-type {\n",
       "        vertical-align: middle;\n",
       "    }\n",
       "\n",
       "    .dataframe tbody tr th {\n",
       "        vertical-align: top;\n",
       "    }\n",
       "\n",
       "    .dataframe thead th {\n",
       "        text-align: right;\n",
       "    }\n",
       "</style>\n",
       "<table border=\"1\" class=\"dataframe\">\n",
       "  <thead>\n",
       "    <tr style=\"text-align: right;\">\n",
       "      <th></th>\n",
       "      <th>actual</th>\n",
       "      <th>predicted</th>\n",
       "      <th>status</th>\n",
       "    </tr>\n",
       "  </thead>\n",
       "  <tbody>\n",
       "    <tr>\n",
       "      <th>14789</th>\n",
       "      <td>no</td>\n",
       "      <td>no</td>\n",
       "      <td>True</td>\n",
       "    </tr>\n",
       "    <tr>\n",
       "      <th>8968</th>\n",
       "      <td>no</td>\n",
       "      <td>no</td>\n",
       "      <td>True</td>\n",
       "    </tr>\n",
       "  </tbody>\n",
       "</table>\n",
       "</div>"
      ],
      "text/plain": [
       "      actual predicted  status\n",
       "14789     no        no    True\n",
       "8968      no        no    True"
      ]
     },
     "execution_count": 49,
     "metadata": {},
     "output_type": "execute_result"
    }
   ],
   "source": [
    "test_pred = model.predict(test_x)\n",
    "print(len(test_pred))\n",
    "test_pred[:5]\n",
    "#dataframe\n",
    "df_bank = pd.DataFrame({'actual':test_y,\n",
    "                        'predicted': test_pred})\n",
    "df_bank.head()\n",
    "df_bank['status'] = df_bank['actual']==df_bank['predicted']\n",
    "df_bank.head()\n",
    "#calculating\n",
    "df_bank['status'].value_counts()/df_bank.shape[0]*100\n",
    "df_bank.head(2)"
   ]
  },
  {
   "cell_type": "code",
   "execution_count": 50,
   "metadata": {},
   "outputs": [
    {
     "name": "stdout",
     "output_type": "stream",
     "text": [
      "775 11124 861 804\n"
     ]
    }
   ],
   "source": [
    "#MANUALLY CHECKING \n",
    "tp_dt = df_bank[(df_bank['predicted']=='yes') & (df_bank['actual']=='yes')].shape[0]\n",
    "tn_dt = df_bank[(df_bank['predicted']=='no') & (df_bank['actual']=='no')].shape[0]\n",
    "fp_dt = df_bank[(df_bank['predicted']=='yes') & (df_bank['actual']=='no')].shape[0]\n",
    "fn_dt = df_bank[(df_bank['predicted']=='no') & (df_bank['actual']=='yes')].shape[0]\n",
    "print(tp_dt,tn_dt,fp_dt,fn_dt)"
   ]
  },
  {
   "cell_type": "code",
   "execution_count": 65,
   "metadata": {},
   "outputs": [
    {
     "name": "stdout",
     "output_type": "stream",
     "text": [
      "0.8772485992332645\n",
      "0.4908169727675744\n",
      "0.9281602002503129\n"
     ]
    }
   ],
   "source": [
    "acc_dt = (tp_dt + tn_dt)/(tp_dt+tn_dt+fp_dt+fn_dt)\n",
    "print(acc_dt)\n",
    "sensitivity_dt = tp_dt/(tp_dt+fn_dt)\n",
    "print(sensitivity_dt)\n",
    "specificity_dt = tn_dt/(tn_dt+fp_dt)\n",
    "print(specificity_dt)"
   ]
  },
  {
   "cell_type": "markdown",
   "metadata": {},
   "source": [
    "# Random Forest\n"
   ]
  },
  {
   "cell_type": "code",
   "execution_count": 52,
   "metadata": {},
   "outputs": [
    {
     "data": {
      "text/plain": [
       "89.97345915659098"
      ]
     },
     "execution_count": 52,
     "metadata": {},
     "output_type": "execute_result"
    }
   ],
   "source": [
    "model_rf = RandomForestClassifier(random_state=100)\n",
    "model_rf.fit(train_x,train_y)\n",
    "\n",
    "test_pred_rf = model_rf.predict(test_x)\n",
    "df_rf   = pd.DataFrame({'actual': test_y,\n",
    "                         'predicted': test_pred_rf})\n",
    "df_rf['pred_status'] = df_rf['actual'] == df_rf['predicted']\n",
    "df_rf['pred_status'].sum()/df_rf.shape[0]*100"
   ]
  },
  {
   "cell_type": "code",
   "execution_count": 53,
   "metadata": {},
   "outputs": [
    {
     "name": "stdout",
     "output_type": "stream",
     "text": [
      "561 11643 342 1018\n"
     ]
    }
   ],
   "source": [
    "tp_rf = df_rf[(df_rf['predicted']=='yes') & (df_rf['actual']=='yes')].shape[0]\n",
    "tn_rf = df_rf[(df_rf['predicted']=='no') & (df_rf['actual']=='no')].shape[0]\n",
    "fp_rf = df_rf[(df_rf['predicted']=='yes') & (df_rf['actual']=='no')].shape[0]\n",
    "fn_rf = df_rf[(df_rf['predicted']=='no') & (df_rf['actual']=='yes')].shape[0]\n",
    "print(tp_rf,tn_rf,fp_rf,fn_rf)"
   ]
  },
  {
   "cell_type": "code",
   "execution_count": 66,
   "metadata": {},
   "outputs": [
    {
     "name": "stdout",
     "output_type": "stream",
     "text": [
      "0.8997345915659097\n",
      "0.37048765041165294\n",
      "0.9714643304130163\n"
     ]
    }
   ],
   "source": [
    "acc_rf = (tp_rf + tn_rf)/(tp_rf+tn_rf+fp_rf+fn_rf)\n",
    "print(acc_rf)\n",
    "sensitivity_rf = tp/(tp_rf+fn_rf)\n",
    "print(sensitivity_rf)\n",
    "specificity_rf = tn_rf/(tn_rf+fp_rf)\n",
    "print(specificity_rf)"
   ]
  },
  {
   "cell_type": "markdown",
   "metadata": {},
   "source": [
    "# Adaptive boost"
   ]
  },
  {
   "cell_type": "code",
   "execution_count": 55,
   "metadata": {},
   "outputs": [],
   "source": [
    "model = AdaBoostClassifier(random_state=100)\n",
    "model.fit(train_x,train_y)\n",
    "test_pred_abm = model.predict(test_x)\n",
    "df_abm  = pd.DataFrame({'actual': test_y,\n",
    "                         'predicted': test_pred_abm})\n"
   ]
  },
  {
   "cell_type": "code",
   "execution_count": 56,
   "metadata": {},
   "outputs": [
    {
     "name": "stdout",
     "output_type": "stream",
     "text": [
      "585 11585 400 994\n"
     ]
    }
   ],
   "source": [
    "#MANUALLY CHECKING \n",
    "tp_abm = df_abm[(df_abm['predicted']=='yes') & (df_abm['actual']=='yes')].shape[0]\n",
    "tn_abm = df_abm[(df_abm['predicted']=='no') & (df_abm['actual']=='no')].shape[0]\n",
    "fp_abm = df_abm[(df_abm['predicted']=='yes') & (df_abm['actual']=='no')].shape[0]\n",
    "fn_abm = df_abm[(df_abm['predicted']=='no') & (df_abm['actual']=='yes')].shape[0]\n",
    "print(tp_abm,tn_abm,fp_abm,fn_abm)"
   ]
  },
  {
   "cell_type": "code",
   "execution_count": 69,
   "metadata": {},
   "outputs": [
    {
     "name": "stdout",
     "output_type": "stream",
     "text": [
      "0.8997345915659097\n",
      "0.37048765041165294\n",
      "0.9714643304130163\n"
     ]
    }
   ],
   "source": [
    "acc_abm = (tp_abm + tn_abm)/(tp_abm+tn_abm+fp_abm+fn_abm)\n",
    "print(acc_rf)\n",
    "sensitivity_abm = tp_abm/(tp_abm+fn_abm)\n",
    "print(sensitivity_rf)\n",
    "specificity_abm = tn_abm/(tn_abm+fp_abm)\n",
    "print(specificity_rf)"
   ]
  },
  {
   "cell_type": "code",
   "execution_count": 70,
   "metadata": {},
   "outputs": [],
   "source": [
    "s_abm = pd.Series({'TP': tp_abm, 'TN' : tn_abm, 'FP': fp_abm, 'FN': fn_abm, 'ACCURACY': acc_abm,'SENSITIVITY': sensitivity_abm,\n",
    "                  'SPECIFICITY': specificity_abm})"
   ]
  },
  {
   "cell_type": "code",
   "execution_count": 71,
   "metadata": {},
   "outputs": [
    {
     "data": {
      "text/plain": [
       "TP               585.000000\n",
       "TN             11585.000000\n",
       "FP               400.000000\n",
       "FN               994.000000\n",
       "ACCURACY           0.897228\n",
       "SENSITIVITY        0.370488\n",
       "SPECIFICITY        0.966625\n",
       "dtype: float64"
      ]
     },
     "execution_count": 71,
     "metadata": {},
     "output_type": "execute_result"
    }
   ],
   "source": [
    "s_abm"
   ]
  },
  {
   "cell_type": "code",
   "execution_count": 72,
   "metadata": {},
   "outputs": [],
   "source": [
    "s_rf = pd.Series({'TP': tp_rf, 'TN' : tn_rf, 'FP': fp_rf, 'FN': fn_rf, 'ACCURACY': acc_rf,'SENSITIVITY': sensitivity_rf,\n",
    "                  'SPECIFICITY': specificity_rf})"
   ]
  },
  {
   "cell_type": "code",
   "execution_count": 73,
   "metadata": {},
   "outputs": [
    {
     "data": {
      "text/plain": [
       "TP               561.000000\n",
       "TN             11643.000000\n",
       "FP               342.000000\n",
       "FN              1018.000000\n",
       "ACCURACY           0.899735\n",
       "SENSITIVITY        0.370488\n",
       "SPECIFICITY        0.971464\n",
       "dtype: float64"
      ]
     },
     "execution_count": 73,
     "metadata": {},
     "output_type": "execute_result"
    }
   ],
   "source": [
    "s_rf"
   ]
  },
  {
   "cell_type": "code",
   "execution_count": 74,
   "metadata": {},
   "outputs": [
    {
     "data": {
      "text/plain": [
       "TP               775.000000\n",
       "TN             11124.000000\n",
       "FP               861.000000\n",
       "FN               804.000000\n",
       "ACCURACY           0.877249\n",
       "SENSITIVITY        0.490817\n",
       "SPECIFICITY        0.928160\n",
       "dtype: float64"
      ]
     },
     "execution_count": 74,
     "metadata": {},
     "output_type": "execute_result"
    }
   ],
   "source": [
    "s_dt = pd.Series({'TP': tp_dt, 'TN' : tn_dt, 'FP': fp_dt, 'FN': fn_dt, 'ACCURACY': acc_dt,'SENSITIVITY': sensitivity_dt,\n",
    "                  'SPECIFICITY': specificity_dt})\n",
    "s_dt"
   ]
  },
  {
   "cell_type": "code",
   "execution_count": 75,
   "metadata": {},
   "outputs": [
    {
     "data": {
      "text/html": [
       "<div>\n",
       "<style scoped>\n",
       "    .dataframe tbody tr th:only-of-type {\n",
       "        vertical-align: middle;\n",
       "    }\n",
       "\n",
       "    .dataframe tbody tr th {\n",
       "        vertical-align: top;\n",
       "    }\n",
       "\n",
       "    .dataframe thead th {\n",
       "        text-align: right;\n",
       "    }\n",
       "</style>\n",
       "<table border=\"1\" class=\"dataframe\">\n",
       "  <thead>\n",
       "    <tr style=\"text-align: right;\">\n",
       "      <th></th>\n",
       "      <th>Decision Tree</th>\n",
       "      <th>Random Forest</th>\n",
       "      <th>Adaptive Boosting</th>\n",
       "    </tr>\n",
       "  </thead>\n",
       "  <tbody>\n",
       "    <tr>\n",
       "      <th>TP</th>\n",
       "      <td>775.000000</td>\n",
       "      <td>561.000000</td>\n",
       "      <td>585.000000</td>\n",
       "    </tr>\n",
       "    <tr>\n",
       "      <th>TN</th>\n",
       "      <td>11124.000000</td>\n",
       "      <td>11643.000000</td>\n",
       "      <td>11585.000000</td>\n",
       "    </tr>\n",
       "    <tr>\n",
       "      <th>FP</th>\n",
       "      <td>861.000000</td>\n",
       "      <td>342.000000</td>\n",
       "      <td>400.000000</td>\n",
       "    </tr>\n",
       "    <tr>\n",
       "      <th>FN</th>\n",
       "      <td>804.000000</td>\n",
       "      <td>1018.000000</td>\n",
       "      <td>994.000000</td>\n",
       "    </tr>\n",
       "    <tr>\n",
       "      <th>ACCURACY</th>\n",
       "      <td>0.877249</td>\n",
       "      <td>0.899735</td>\n",
       "      <td>0.897228</td>\n",
       "    </tr>\n",
       "    <tr>\n",
       "      <th>SENSITIVITY</th>\n",
       "      <td>0.490817</td>\n",
       "      <td>0.370488</td>\n",
       "      <td>0.370488</td>\n",
       "    </tr>\n",
       "    <tr>\n",
       "      <th>SPECIFICITY</th>\n",
       "      <td>0.928160</td>\n",
       "      <td>0.971464</td>\n",
       "      <td>0.966625</td>\n",
       "    </tr>\n",
       "  </tbody>\n",
       "</table>\n",
       "</div>"
      ],
      "text/plain": [
       "             Decision Tree  Random Forest  Adaptive Boosting\n",
       "TP              775.000000     561.000000         585.000000\n",
       "TN            11124.000000   11643.000000       11585.000000\n",
       "FP              861.000000     342.000000         400.000000\n",
       "FN              804.000000    1018.000000         994.000000\n",
       "ACCURACY          0.877249       0.899735           0.897228\n",
       "SENSITIVITY       0.490817       0.370488           0.370488\n",
       "SPECIFICITY       0.928160       0.971464           0.966625"
      ]
     },
     "execution_count": 75,
     "metadata": {},
     "output_type": "execute_result"
    }
   ],
   "source": [
    "df_complete = pd.DataFrame({'Decision Tree': s_dt, 'Random Forest': s_rf, 'Adaptive Boosting': s_abm})\n",
    "df_complete"
   ]
  },
  {
   "cell_type": "code",
   "execution_count": null,
   "metadata": {},
   "outputs": [],
   "source": []
  },
  {
   "cell_type": "code",
   "execution_count": null,
   "metadata": {},
   "outputs": [],
   "source": []
  }
 ],
 "metadata": {
  "kernelspec": {
   "display_name": "Python 3",
   "language": "python",
   "name": "python3"
  },
  "language_info": {
   "codemirror_mode": {
    "name": "ipython",
    "version": 3
   },
   "file_extension": ".py",
   "mimetype": "text/x-python",
   "name": "python",
   "nbconvert_exporter": "python",
   "pygments_lexer": "ipython3",
   "version": "3.7.0"
  }
 },
 "nbformat": 4,
 "nbformat_minor": 2
}
